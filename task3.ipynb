{
  "cells": [
    {
      "cell_type": "markdown",
      "metadata": {
        "id": "view-in-github",
        "colab_type": "text"
      },
      "source": [
        "<a href=\"https://colab.research.google.com/github/VickyThumbi/3d-visualization/blob/master/task3.ipynb\" target=\"_parent\"><img src=\"https://colab.research.google.com/assets/colab-badge.svg\" alt=\"Open In Colab\"/></a>"
      ]
    },
    {
      "cell_type": "code",
      "execution_count": 64,
      "metadata": {
        "id": "Om3l7wKwn1NR"
      },
      "outputs": [],
      "source": [
        "import numpy as np\n",
        "import cv2\n",
        "import matplotlib.pyplot as plt\n",
        "from scipy.interpolate import RegularGridInterpolator\n",
        "\n",
        "class RigidTransform:\n",
        "    def __init__(self, rotations, translations):\n",
        "        self.rotations = rotations\n",
        "        self.translations = translations\n",
        "        self.rotation_matrix = np.array([[np.cos(rotations[0])*np.cos(rotations[1]), \n",
        "                                         -np.sin(rotations[1])*np.sin(rotations[0])+np.cos(rotations[1])*np.sin(rotations[1])*np.cos(rotations[0]), \n",
        "                                         np.sin(rotations[1])*np.cos(rotations[0])+np.cos(rotations[1])*np.sin(rotations[1])*np.sin(rotations[0])],\n",
        "                                        [np.sin(rotations[0])*np.cos(rotations[1]), \n",
        "                                         np.cos(rotations[1])*np.cos(rotations[0])+np.sin(rotations[1])*np.sin(rotations[1])*np.sin(rotations[0]), \n",
        "                                         -np.cos(rotations[1])*np.sin(rotations[0])+np.sin(rotations[1])*np.sin(rotations[1])*np.cos(rotations[0])],\n",
        "                                        [-np.sin(rotations[1]), np.cos(rotations[1])*np.sin(rotations[0]), np.cos(rotations[1])*np.cos(rotations[0])]])\n",
        "        self.translation_vector = np.array(translations)\n",
        "        self.ddf = None\n",
        "\n",
        "    def compute_ddf(self, size):\n",
        "      # Compute the dense displacement field from the rotation matrix and translation vector\n",
        "      ddf = np.zeros((size, size, size, 3))\n",
        "      for i in range(size):\n",
        "          for j in range(size):\n",
        "              for k in range(size):\n",
        "                  ddf[i, j, k] = np.matmul(self.rotation_matrix, np.array(\n",
        "                      [i, j, k])) + self.translation_vector\n",
        "      return ddf\n",
        "\n",
        "    def apply(self, image):\n",
        "        warped_image = np.zeros(image.shape)\n",
        "        for i in range(image.shape[0]):\n",
        "            for j in range(image.shape[1]):\n",
        "                for k in range(image.shape[2]):\n",
        "                    warped_coordinate = np.matmul(self.rotation_matrix, np.array([i, j, k])) + self.translation_vector\n",
        "                    warped_image[i, j, k] = image[int(warped_coordinate[0]), int(warped_coordinate[1]), int(warped_coordinate[2])]\n",
        "        return warped_image\n",
        "    \n",
        "    def warp(self, image_volume):\n",
        "        # Get the dimensions of the input image volume\n",
        "        nx, ny, nz = image_volume.shape\n",
        "        # Get the grid coordinates for the input image volume\n",
        "        x = np.linspace(0, nx-1, nx)\n",
        "        y = np.linspace(0, ny-1, ny)\n",
        "        z = np.linspace(0, nz-1, nz)\n",
        "        # Compute the dense displacement field (DDF) if it's not already precomputed\n",
        "        if self.ddf is None:\n",
        "            self.ddf = self.compute_ddf((nx, ny, nz))\n",
        "        # Get the warped image size and the grid coordinates for the warped image volume\n",
        "        nx_warped, ny_warped, nz_warped = self.ddf.shape[:3]\n",
        "        x_warped = np.linspace(0, nx_warped-1, nx_warped)\n",
        "        y_warped = np.linspace(0, ny_warped-1, ny_warped)\n",
        "        z_warped = np.linspace(0, nz_warped-1, nz_warped)\n",
        "        # Interpolate the intensity values of the input image volume using the DDF\n",
        "        interpolator = RegularGridInterpolator((x, y, z), image_volume)\n",
        "        warped_image_volume = interpolator(self.ddf)\n",
        "        return warped_image_volume\n",
        "    def generate_random_transforms(num_transforms):\n",
        "          random_transforms = []\n",
        "          for i in range(num_transforms):\n",
        "              random_translation = np.random.uniform(\n",
        "                  -10, 10, size=(3, 1))\n",
        "              random_rotation = np.random.uniform(\n",
        "                  -np.pi/2, np.pi/2, size=(3, 1))\n",
        "              random_transforms.append(RigidTransform(\n",
        "                  random_rotation, random_translation))\n",
        "          return random_transforms\n",
        "\n",
        "    \n",
        "    def interpolate(self, image, coordinate):\n",
        "        x, y, z = coordinate\n",
        "        x0, y0, z0 = np.floor(coordinate).astype(int)\n",
        "        x1, y1, z1 = np.ceil(coordinate).astype(int)\n",
        "        xd, yd, zd = x - x0, y - y0, z - z0\n",
        "        intensity = (1 - xd) * (1 - yd) * (1 - zd) * image[x0, y0, z0] + \\\n",
        "                    xd * (1 - yd) * (1 - zd) * image[x1, y0, z0] + \\\n",
        "                    (1 - xd) * yd * (1 - zd) * image[x0, y1, z0] + \\\n",
        "                    xd * yd * (1 - zd) * image[x1, y1, z0] + \\\n",
        "                    (1 - xd) * (1 - yd) * zd * image[x0, y0, z1] + \\\n",
        "                    xd * (1 - yd) * zd * image[x1, y0, z1] + \\\n",
        "                    (1 - xd) * yd * zd * image[x0, y1, z1] + \\\n",
        "                    xd * yd * zd * image[x1, y1, z1]\n",
        "        return intensity\n",
        "\n",
        "    def compose(self, rotations, translations):\n",
        "        # compute the rotation matrix for the input rotations\n",
        "        rot_mat = self._compute_rot_mat(rotations)\n",
        "\n",
        "        # compute the composed transformation\n",
        "        rot_mat_composed = rot_mat.dot(self.rot_mat)\n",
        "        trans_vec_composed = rot_mat.dot(self.trans_vec) + np.array(translations)\n",
        "        \n",
        "        # return the composed rigid transform\n",
        "        return RigidTransform(rot_mat_composed, trans_vec_composed)\n",
        "\n"
      ]
    },
    {
      "cell_type": "code",
      "source": [
        "import numpy as np\n",
        "import matplotlib.pyplot as plt\n",
        "\n",
        "# Load image file \"image_train00.npy\"\n",
        "image = np.load(\"image_train00.npy\")\n",
        "\n",
        "# Define ranges of translation and rotation parameters\n",
        "translation_range = [(-10, 10), (-10, 10), (-10, 10)]\n",
        "rotation_range = [(-np.pi, np.pi), (-np.pi, np.pi), (-np.pi, np.pi)]\n",
        "\n",
        "# Experiment 1: Test image warping and transformation composing\n",
        "# Randomly sample 3 sets of rigid transformation parameters\n",
        "\n",
        "T1 = (np.random.uniform(low=rotation_range[0], high=rotation_range[1]),\n",
        "      np.random.uniform(low=translation_range[0], high=translation_range[1]))\n",
        "T2 = (np.random.uniform(low=rotation_range[0], high=rotation_range[1]),\n",
        "      np.random.uniform(low=translation_range[0], high=translation_range[1]))\n",
        "T3 = (np.random.uniform(low=rotation_range[0], high=rotation_range[1]),\n",
        "      np.random.uniform(low=translation_range[0], high=translation_range[1]))\n",
        "# Instantiate 3 objects for T1, T1⊕T2, T1⊕T2⊕T3\n",
        "rigid_transform1 = RigidTransform(*T1)\n",
        "rigid_transform2 = rigid_transform1.compose(*T2)\n",
        "rigid_transform3 = rigid_transform2.compose(*T3)\n",
        "\n",
        "# Compare the two warped images, between 1) using the composed transformations and 2) by applying T2 and T3 sequentially on previously warped images\n",
        "image_warped_1 = rigid_transform3.warp(image)\n",
        "\n",
        "rigid_transform_temp = RigidTransform(*T1)\n",
        "image_warped_temp = rigid_transform_temp.warp(image)\n",
        "rigid_transform_temp = rigid_transform_temp.compose(*T2)\n",
        "image_warped_temp = rigid_transform_temp.warp(image_warped_temp)\n",
        "rigid_transform_temp = rigid_transform_temp.compose(*T3)\n",
        "image_warped_2 = rigid_transform_temp.warp(image_warped_temp)\n"
      ],
      "metadata": {
        "id": "7Kldc2Bxl5VP",
        "outputId": "e96a565a-401d-4bc6-d60f-cd73720fde16",
        "colab": {
          "base_uri": "https://localhost:8080/",
          "height": 358
        }
      },
      "execution_count": 65,
      "outputs": [
        {
          "output_type": "error",
          "ename": "AttributeError",
          "evalue": "ignored",
          "traceback": [
            "\u001b[0;31m---------------------------------------------------------------------------\u001b[0m",
            "\u001b[0;31mAttributeError\u001b[0m                            Traceback (most recent call last)",
            "\u001b[0;32m<ipython-input-65-cdd694677440>\u001b[0m in \u001b[0;36m<module>\u001b[0;34m\u001b[0m\n\u001b[1;32m     20\u001b[0m \u001b[0;31m# Instantiate 3 objects for T1, T1⊕T2, T1⊕T2⊕T3\u001b[0m\u001b[0;34m\u001b[0m\u001b[0;34m\u001b[0m\u001b[0;34m\u001b[0m\u001b[0m\n\u001b[1;32m     21\u001b[0m \u001b[0mrigid_transform1\u001b[0m \u001b[0;34m=\u001b[0m \u001b[0mRigidTransform\u001b[0m\u001b[0;34m(\u001b[0m\u001b[0;34m*\u001b[0m\u001b[0mT1\u001b[0m\u001b[0;34m)\u001b[0m\u001b[0;34m\u001b[0m\u001b[0;34m\u001b[0m\u001b[0m\n\u001b[0;32m---> 22\u001b[0;31m \u001b[0mrigid_transform2\u001b[0m \u001b[0;34m=\u001b[0m \u001b[0mrigid_transform1\u001b[0m\u001b[0;34m.\u001b[0m\u001b[0mcompose\u001b[0m\u001b[0;34m(\u001b[0m\u001b[0;34m*\u001b[0m\u001b[0mT2\u001b[0m\u001b[0;34m)\u001b[0m\u001b[0;34m\u001b[0m\u001b[0;34m\u001b[0m\u001b[0m\n\u001b[0m\u001b[1;32m     23\u001b[0m \u001b[0mrigid_transform3\u001b[0m \u001b[0;34m=\u001b[0m \u001b[0mrigid_transform2\u001b[0m\u001b[0;34m.\u001b[0m\u001b[0mcompose\u001b[0m\u001b[0;34m(\u001b[0m\u001b[0;34m*\u001b[0m\u001b[0mT3\u001b[0m\u001b[0;34m)\u001b[0m\u001b[0;34m\u001b[0m\u001b[0;34m\u001b[0m\u001b[0m\n\u001b[1;32m     24\u001b[0m \u001b[0;34m\u001b[0m\u001b[0m\n",
            "\u001b[0;32m<ipython-input-64-af27e8acc2af>\u001b[0m in \u001b[0;36mcompose\u001b[0;34m(self, rotations, translations)\u001b[0m\n\u001b[1;32m     85\u001b[0m     \u001b[0;32mdef\u001b[0m \u001b[0mcompose\u001b[0m\u001b[0;34m(\u001b[0m\u001b[0mself\u001b[0m\u001b[0;34m,\u001b[0m \u001b[0mrotations\u001b[0m\u001b[0;34m,\u001b[0m \u001b[0mtranslations\u001b[0m\u001b[0;34m)\u001b[0m\u001b[0;34m:\u001b[0m\u001b[0;34m\u001b[0m\u001b[0;34m\u001b[0m\u001b[0m\n\u001b[1;32m     86\u001b[0m         \u001b[0;31m# compute the rotation matrix for the input rotations\u001b[0m\u001b[0;34m\u001b[0m\u001b[0;34m\u001b[0m\u001b[0;34m\u001b[0m\u001b[0m\n\u001b[0;32m---> 87\u001b[0;31m         \u001b[0mrot_mat\u001b[0m \u001b[0;34m=\u001b[0m \u001b[0mself\u001b[0m\u001b[0;34m.\u001b[0m\u001b[0m_compute_rot_mat\u001b[0m\u001b[0;34m(\u001b[0m\u001b[0mrotations\u001b[0m\u001b[0;34m)\u001b[0m\u001b[0;34m\u001b[0m\u001b[0;34m\u001b[0m\u001b[0m\n\u001b[0m\u001b[1;32m     88\u001b[0m \u001b[0;34m\u001b[0m\u001b[0m\n\u001b[1;32m     89\u001b[0m         \u001b[0;31m# compute the composed transformation\u001b[0m\u001b[0;34m\u001b[0m\u001b[0;34m\u001b[0m\u001b[0;34m\u001b[0m\u001b[0m\n",
            "\u001b[0;31mAttributeError\u001b[0m: 'RigidTransform' object has no attribute '_compute_rot_mat'"
          ]
        }
      ]
    },
    {
      "cell_type": "code",
      "source": [
        "\n",
        "# Load the image file\n",
        "image = np.load(\"image_train00.npy\")\n",
        "\n",
        "# Define the range of translation and rotation parameters\n",
        "translation_min, translation_max = -10, 10\n",
        "rotation_min, rotation_max = -np.pi, np.pi\n",
        "\n",
        "# Generate the random translation and rotation parameters\n",
        "translation = np.random.uniform(translation_min, translation_max, (3,))\n",
        "rotation = np.random.uniform(rotation_min, rotation_max, (3,))\n",
        "\n",
        "# Initialize the first rigid transformation with the random parameters\n",
        "rigid_transform_1 = RigidTransform(translation, rotation)\n",
        "\n",
        "# Generate the second set of random translation and rotation parameters\n",
        "translation = np.random.uniform(translation_min, translation_max, (3,))\n",
        "rotation = np.random.uniform(rotation_min, rotation_max, (3,))\n",
        "\n",
        "# Initialize the second rigid transformation with the random parameters\n",
        "rigid_transform_2 = RigidTransform(translation, rotation)\n",
        "\n",
        "# Compose the two rigid transformations to get the combined transformation\n",
        "rigid_transform_composed = rigid_transform_1.compose(translation, rotation)\n",
        "\n",
        "# Warp the image with the composed transformation\n",
        "warped_image = rigid_transform_composed.warp(image)\n",
        "\n",
        "# Plot the original and warped images\n",
        "fig, axs = plt.subplots(1, 2)\n",
        "axs[0].imshow(image[:, :, image.shape[2] // 2], cmap='gray')\n",
        "axs[0].set_title('Original Image')\n",
        "axs[1].imshow(warped_image[:, :, warped_image.shape[2] // 2], cmap='gray')\n",
        "axs[1].set_title('Warped Image')\n",
        "plt.show()\n"
      ],
      "metadata": {
        "id": "QPnibz4ncBiV",
        "outputId": "ef8d479b-4aa7-4bdb-a5eb-c2c36b748819",
        "colab": {
          "base_uri": "https://localhost:8080/",
          "height": 358
        }
      },
      "execution_count": 60,
      "outputs": [
        {
          "output_type": "error",
          "ename": "AttributeError",
          "evalue": "ignored",
          "traceback": [
            "\u001b[0;31m---------------------------------------------------------------------------\u001b[0m",
            "\u001b[0;31mAttributeError\u001b[0m                            Traceback (most recent call last)",
            "\u001b[0;32m<ipython-input-60-559a5297b8c8>\u001b[0m in \u001b[0;36m<module>\u001b[0;34m\u001b[0m\n\u001b[1;32m     21\u001b[0m \u001b[0;34m\u001b[0m\u001b[0m\n\u001b[1;32m     22\u001b[0m \u001b[0;31m# Compose the two rigid transformations to get the combined transformation\u001b[0m\u001b[0;34m\u001b[0m\u001b[0;34m\u001b[0m\u001b[0;34m\u001b[0m\u001b[0m\n\u001b[0;32m---> 23\u001b[0;31m \u001b[0mrigid_transform_composed\u001b[0m \u001b[0;34m=\u001b[0m \u001b[0mrigid_transform_1\u001b[0m\u001b[0;34m.\u001b[0m\u001b[0mcompose\u001b[0m\u001b[0;34m(\u001b[0m\u001b[0mtranslation\u001b[0m\u001b[0;34m,\u001b[0m \u001b[0mrotation\u001b[0m\u001b[0;34m)\u001b[0m\u001b[0;34m\u001b[0m\u001b[0;34m\u001b[0m\u001b[0m\n\u001b[0m\u001b[1;32m     24\u001b[0m \u001b[0;34m\u001b[0m\u001b[0m\n\u001b[1;32m     25\u001b[0m \u001b[0;31m# Warp the image with the composed transformation\u001b[0m\u001b[0;34m\u001b[0m\u001b[0;34m\u001b[0m\u001b[0;34m\u001b[0m\u001b[0m\n",
            "\u001b[0;32m<ipython-input-59-8bbe339d2435>\u001b[0m in \u001b[0;36mcompose\u001b[0;34m(self, rotations, translations)\u001b[0m\n\u001b[1;32m     85\u001b[0m     \u001b[0;32mdef\u001b[0m \u001b[0mcompose\u001b[0m\u001b[0;34m(\u001b[0m\u001b[0mself\u001b[0m\u001b[0;34m,\u001b[0m \u001b[0mrotations\u001b[0m\u001b[0;34m,\u001b[0m \u001b[0mtranslations\u001b[0m\u001b[0;34m)\u001b[0m\u001b[0;34m:\u001b[0m\u001b[0;34m\u001b[0m\u001b[0;34m\u001b[0m\u001b[0m\n\u001b[1;32m     86\u001b[0m         \u001b[0;31m# compute the rotation matrix for the input rotations\u001b[0m\u001b[0;34m\u001b[0m\u001b[0;34m\u001b[0m\u001b[0;34m\u001b[0m\u001b[0m\n\u001b[0;32m---> 87\u001b[0;31m         \u001b[0mrot_mat\u001b[0m \u001b[0;34m=\u001b[0m \u001b[0mself\u001b[0m\u001b[0;34m.\u001b[0m\u001b[0m_compute_rot_mat\u001b[0m\u001b[0;34m(\u001b[0m\u001b[0mrotations\u001b[0m\u001b[0;34m)\u001b[0m\u001b[0;34m\u001b[0m\u001b[0;34m\u001b[0m\u001b[0m\n\u001b[0m\u001b[1;32m     88\u001b[0m \u001b[0;34m\u001b[0m\u001b[0m\n\u001b[1;32m     89\u001b[0m         \u001b[0;31m# compute the composed transformation\u001b[0m\u001b[0;34m\u001b[0m\u001b[0;34m\u001b[0m\u001b[0;34m\u001b[0m\u001b[0m\n",
            "\u001b[0;31mAttributeError\u001b[0m: 'RigidTransform' object has no attribute '_compute_rot_mat'"
          ]
        }
      ]
    },
    {
      "cell_type": "code",
      "execution_count": 26,
      "metadata": {
        "id": "hsyDWLfR9VeD"
      },
      "outputs": [],
      "source": [
        "\n",
        "import numpy as np\n",
        "image = np.load(\"image_train00.npy\")\n"
      ]
    },
    {
      "cell_type": "code",
      "source": [
        "translation_range = (-10, 10)\n",
        "rotation_range = (-np.pi/2, np.pi/2)\n"
      ],
      "metadata": {
        "id": "GPUnMFggXRJd"
      },
      "execution_count": 27,
      "outputs": []
    },
    {
      "cell_type": "code",
      "source": [
        "random_transforms = RigidTransform.generate_random_transforms(3)\n"
      ],
      "metadata": {
        "colab": {
          "base_uri": "https://localhost:8080/",
          "height": 348
        },
        "id": "Lg0nFIS3XVL2",
        "outputId": "eeddbfa3-d38a-43b4-b478-990f82d7440c"
      },
      "execution_count": 42,
      "outputs": [
        {
          "output_type": "error",
          "ename": "TypeError",
          "evalue": "ignored",
          "traceback": [
            "\u001b[0;31m---------------------------------------------------------------------------\u001b[0m",
            "\u001b[0;31mTypeError\u001b[0m                                 Traceback (most recent call last)",
            "\u001b[0;32m<ipython-input-42-3c6bf58022b0>\u001b[0m in \u001b[0;36m<module>\u001b[0;34m\u001b[0m\n\u001b[0;32m----> 1\u001b[0;31m \u001b[0mrandom_transforms\u001b[0m \u001b[0;34m=\u001b[0m \u001b[0mRigidTransform\u001b[0m\u001b[0;34m.\u001b[0m\u001b[0mgenerate_random_transforms\u001b[0m\u001b[0;34m(\u001b[0m\u001b[0;36m3\u001b[0m\u001b[0;34m)\u001b[0m\u001b[0;34m\u001b[0m\u001b[0;34m\u001b[0m\u001b[0m\n\u001b[0m",
            "\u001b[0;32m<ipython-input-41-2bac46dab01c>\u001b[0m in \u001b[0;36mgenerate_random_transforms\u001b[0;34m(num_transforms)\u001b[0m\n\u001b[1;32m     63\u001b[0m               random_rotation = np.random.uniform(\n\u001b[1;32m     64\u001b[0m                   -np.pi/2, np.pi/2, size=(3, 1))\n\u001b[0;32m---> 65\u001b[0;31m               random_transforms.append(RigidTransform(\n\u001b[0m\u001b[1;32m     66\u001b[0m                   random_rotation, random_translation))\n\u001b[1;32m     67\u001b[0m           \u001b[0;32mreturn\u001b[0m \u001b[0mrandom_transforms\u001b[0m\u001b[0;34m\u001b[0m\u001b[0;34m\u001b[0m\u001b[0m\n",
            "\u001b[0;32m<ipython-input-41-2bac46dab01c>\u001b[0m in \u001b[0;36m__init__\u001b[0;34m(self, rotations, translations)\u001b[0m\n\u001b[1;32m     15\u001b[0m                                         [-np.sin(rotations[1]), np.cos(rotations[1])*np.sin(rotations[0]), np.cos(rotations[1])*np.cos(rotations[0])]])\n\u001b[1;32m     16\u001b[0m         \u001b[0mself\u001b[0m\u001b[0;34m.\u001b[0m\u001b[0mtranslation_vector\u001b[0m \u001b[0;34m=\u001b[0m \u001b[0mnp\u001b[0m\u001b[0;34m.\u001b[0m\u001b[0marray\u001b[0m\u001b[0;34m(\u001b[0m\u001b[0mtranslations\u001b[0m\u001b[0;34m)\u001b[0m\u001b[0;34m\u001b[0m\u001b[0;34m\u001b[0m\u001b[0m\n\u001b[0;32m---> 17\u001b[0;31m         \u001b[0mself\u001b[0m\u001b[0;34m.\u001b[0m\u001b[0mddf\u001b[0m \u001b[0;34m=\u001b[0m \u001b[0mself\u001b[0m\u001b[0;34m.\u001b[0m\u001b[0mcompute_ddf\u001b[0m\u001b[0;34m(\u001b[0m\u001b[0;34m)\u001b[0m\u001b[0;34m\u001b[0m\u001b[0;34m\u001b[0m\u001b[0m\n\u001b[0m\u001b[1;32m     18\u001b[0m \u001b[0;34m\u001b[0m\u001b[0m\n\u001b[1;32m     19\u001b[0m \u001b[0;34m\u001b[0m\u001b[0m\n",
            "\u001b[0;31mTypeError\u001b[0m: compute_ddf() missing 1 required positional argument: 'size'"
          ]
        }
      ]
    },
    {
      "cell_type": "code",
      "source": [
        "T1 = RigidTransform(np.random.uniform(rotation_range[0], rotation_range[1], size=(3, 1)), np.random.uniform(translation_range[0], translation_range[1], size=(3, 1)))\n",
        "T2 = RigidTransform(np.random.uniform(rotation_range[0], rotation_range[1], size=(3, 1)), np.random.uniform(translation_range[0], translation_range[1], size=(3, 1)))\n",
        "T3 = RigidTransform(np.random.uniform(rotation_range[0], rotation_range[1], size=(3, 1)), np.random.uniform(translation_range[0], translation_range[1], size=(3, 1)))"
      ],
      "metadata": {
        "colab": {
          "base_uri": "https://localhost:8080/",
          "height": 463
        },
        "id": "GDW2nHEaWOyk",
        "outputId": "e52bc041-c0f2-4b29-a74c-88a979a75a33"
      },
      "execution_count": 25,
      "outputs": [
        {
          "output_type": "error",
          "ename": "TypeError",
          "evalue": "ignored",
          "traceback": [
            "\u001b[0;31m---------------------------------------------------------------------------\u001b[0m",
            "\u001b[0;31mTypeError\u001b[0m                                 Traceback (most recent call last)",
            "\u001b[0;32m<ipython-input-25-66f193c77b4b>\u001b[0m in \u001b[0;36m<module>\u001b[0;34m\u001b[0m\n\u001b[0;32m----> 1\u001b[0;31m \u001b[0mT1\u001b[0m \u001b[0;34m=\u001b[0m \u001b[0mRigidTransform\u001b[0m\u001b[0;34m(\u001b[0m\u001b[0mnp\u001b[0m\u001b[0;34m.\u001b[0m\u001b[0mrandom\u001b[0m\u001b[0;34m.\u001b[0m\u001b[0muniform\u001b[0m\u001b[0;34m(\u001b[0m\u001b[0mrotation_range\u001b[0m\u001b[0;34m[\u001b[0m\u001b[0;36m0\u001b[0m\u001b[0;34m]\u001b[0m\u001b[0;34m,\u001b[0m \u001b[0mrotation_range\u001b[0m\u001b[0;34m[\u001b[0m\u001b[0;36m1\u001b[0m\u001b[0;34m]\u001b[0m\u001b[0;34m,\u001b[0m \u001b[0msize\u001b[0m\u001b[0;34m=\u001b[0m\u001b[0;34m(\u001b[0m\u001b[0;36m3\u001b[0m\u001b[0;34m,\u001b[0m \u001b[0;36m1\u001b[0m\u001b[0;34m)\u001b[0m\u001b[0;34m)\u001b[0m\u001b[0;34m,\u001b[0m \u001b[0mnp\u001b[0m\u001b[0;34m.\u001b[0m\u001b[0mrandom\u001b[0m\u001b[0;34m.\u001b[0m\u001b[0muniform\u001b[0m\u001b[0;34m(\u001b[0m\u001b[0mtranslation_range\u001b[0m\u001b[0;34m[\u001b[0m\u001b[0;36m0\u001b[0m\u001b[0;34m]\u001b[0m\u001b[0;34m,\u001b[0m \u001b[0mtranslation_range\u001b[0m\u001b[0;34m[\u001b[0m\u001b[0;36m1\u001b[0m\u001b[0;34m]\u001b[0m\u001b[0;34m,\u001b[0m \u001b[0msize\u001b[0m\u001b[0;34m=\u001b[0m\u001b[0;34m(\u001b[0m\u001b[0;36m3\u001b[0m\u001b[0;34m,\u001b[0m \u001b[0;36m1\u001b[0m\u001b[0;34m)\u001b[0m\u001b[0;34m)\u001b[0m\u001b[0;34m)\u001b[0m\u001b[0;34m\u001b[0m\u001b[0;34m\u001b[0m\u001b[0m\n\u001b[0m\u001b[1;32m      2\u001b[0m \u001b[0mT2\u001b[0m \u001b[0;34m=\u001b[0m \u001b[0mRigidTransform\u001b[0m\u001b[0;34m(\u001b[0m\u001b[0mnp\u001b[0m\u001b[0;34m.\u001b[0m\u001b[0mrandom\u001b[0m\u001b[0;34m.\u001b[0m\u001b[0muniform\u001b[0m\u001b[0;34m(\u001b[0m\u001b[0mrotation_range\u001b[0m\u001b[0;34m[\u001b[0m\u001b[0;36m0\u001b[0m\u001b[0;34m]\u001b[0m\u001b[0;34m,\u001b[0m \u001b[0mrotation_range\u001b[0m\u001b[0;34m[\u001b[0m\u001b[0;36m1\u001b[0m\u001b[0;34m]\u001b[0m\u001b[0;34m,\u001b[0m \u001b[0msize\u001b[0m\u001b[0;34m=\u001b[0m\u001b[0;34m(\u001b[0m\u001b[0;36m3\u001b[0m\u001b[0;34m,\u001b[0m \u001b[0;36m1\u001b[0m\u001b[0;34m)\u001b[0m\u001b[0;34m)\u001b[0m\u001b[0;34m,\u001b[0m \u001b[0mnp\u001b[0m\u001b[0;34m.\u001b[0m\u001b[0mrandom\u001b[0m\u001b[0;34m.\u001b[0m\u001b[0muniform\u001b[0m\u001b[0;34m(\u001b[0m\u001b[0mtranslation_range\u001b[0m\u001b[0;34m[\u001b[0m\u001b[0;36m0\u001b[0m\u001b[0;34m]\u001b[0m\u001b[0;34m,\u001b[0m \u001b[0mtranslation_range\u001b[0m\u001b[0;34m[\u001b[0m\u001b[0;36m1\u001b[0m\u001b[0;34m]\u001b[0m\u001b[0;34m,\u001b[0m \u001b[0msize\u001b[0m\u001b[0;34m=\u001b[0m\u001b[0;34m(\u001b[0m\u001b[0;36m3\u001b[0m\u001b[0;34m,\u001b[0m \u001b[0;36m1\u001b[0m\u001b[0;34m)\u001b[0m\u001b[0;34m)\u001b[0m\u001b[0;34m)\u001b[0m\u001b[0;34m\u001b[0m\u001b[0;34m\u001b[0m\u001b[0m\n\u001b[1;32m      3\u001b[0m \u001b[0mT3\u001b[0m \u001b[0;34m=\u001b[0m \u001b[0mRigidTransform\u001b[0m\u001b[0;34m(\u001b[0m\u001b[0mnp\u001b[0m\u001b[0;34m.\u001b[0m\u001b[0mrandom\u001b[0m\u001b[0;34m.\u001b[0m\u001b[0muniform\u001b[0m\u001b[0;34m(\u001b[0m\u001b[0mrotation_range\u001b[0m\u001b[0;34m[\u001b[0m\u001b[0;36m0\u001b[0m\u001b[0;34m]\u001b[0m\u001b[0;34m,\u001b[0m \u001b[0mrotation_range\u001b[0m\u001b[0;34m[\u001b[0m\u001b[0;36m1\u001b[0m\u001b[0;34m]\u001b[0m\u001b[0;34m,\u001b[0m \u001b[0msize\u001b[0m\u001b[0;34m=\u001b[0m\u001b[0;34m(\u001b[0m\u001b[0;36m3\u001b[0m\u001b[0;34m,\u001b[0m \u001b[0;36m1\u001b[0m\u001b[0;34m)\u001b[0m\u001b[0;34m)\u001b[0m\u001b[0;34m,\u001b[0m \u001b[0mnp\u001b[0m\u001b[0;34m.\u001b[0m\u001b[0mrandom\u001b[0m\u001b[0;34m.\u001b[0m\u001b[0muniform\u001b[0m\u001b[0;34m(\u001b[0m\u001b[0mtranslation_range\u001b[0m\u001b[0;34m[\u001b[0m\u001b[0;36m0\u001b[0m\u001b[0;34m]\u001b[0m\u001b[0;34m,\u001b[0m \u001b[0mtranslation_range\u001b[0m\u001b[0;34m[\u001b[0m\u001b[0;36m1\u001b[0m\u001b[0;34m]\u001b[0m\u001b[0;34m,\u001b[0m \u001b[0msize\u001b[0m\u001b[0;34m=\u001b[0m\u001b[0;34m(\u001b[0m\u001b[0;36m3\u001b[0m\u001b[0;34m,\u001b[0m \u001b[0;36m1\u001b[0m\u001b[0;34m)\u001b[0m\u001b[0;34m)\u001b[0m\u001b[0;34m)\u001b[0m\u001b[0;34m\u001b[0m\u001b[0;34m\u001b[0m\u001b[0m\n",
            "\u001b[0;32m<ipython-input-22-bd971a23df5d>\u001b[0m in \u001b[0;36m__init__\u001b[0;34m(self, rotations, translations)\u001b[0m\n\u001b[1;32m     15\u001b[0m                                         [-np.sin(rotations[1]), np.cos(rotations[1])*np.sin(rotations[0]), np.cos(rotations[1])*np.cos(rotations[0])]])\n\u001b[1;32m     16\u001b[0m         \u001b[0mself\u001b[0m\u001b[0;34m.\u001b[0m\u001b[0mtranslation_vector\u001b[0m \u001b[0;34m=\u001b[0m \u001b[0mnp\u001b[0m\u001b[0;34m.\u001b[0m\u001b[0marray\u001b[0m\u001b[0;34m(\u001b[0m\u001b[0mtranslations\u001b[0m\u001b[0;34m)\u001b[0m\u001b[0;34m\u001b[0m\u001b[0;34m\u001b[0m\u001b[0m\n\u001b[0;32m---> 17\u001b[0;31m         \u001b[0mself\u001b[0m\u001b[0;34m.\u001b[0m\u001b[0mddf\u001b[0m \u001b[0;34m=\u001b[0m \u001b[0mself\u001b[0m\u001b[0;34m.\u001b[0m\u001b[0mcompute_ddf\u001b[0m\u001b[0;34m(\u001b[0m\u001b[0;34m)\u001b[0m\u001b[0;34m\u001b[0m\u001b[0;34m\u001b[0m\u001b[0m\n\u001b[0m\u001b[1;32m     18\u001b[0m \u001b[0;34m\u001b[0m\u001b[0m\n\u001b[1;32m     19\u001b[0m \u001b[0;34m\u001b[0m\u001b[0m\n",
            "\u001b[0;31mTypeError\u001b[0m: compute_ddf() missing 1 required positional argument: 'size'"
          ]
        }
      ]
    },
    {
      "cell_type": "code",
      "execution_count": null,
      "metadata": {
        "id": "fZSSHQGn9VXz"
      },
      "outputs": [],
      "source": [
        "# Visualize the warped image.\n",
        "\n",
        "plt.imshow(warped_image[:, :, 100], cmap=\"gray\")\n",
        "plt.show()\n",
        "\n",
        "# Generate another random set of rigid transformation parameters, and apply the rigid\n",
        "# transformation to the image.\n",
        "\n",
        "transform2 = RigidTransform.generate_random_transform(\n",
        "    translation_range, rotation_range)\n",
        "warped_image2 = transform2.apply(image)\n"
      ]
    },
    {
      "cell_type": "code",
      "execution_count": null,
      "metadata": {
        "colab": {
          "background_save": true
        },
        "id": "ynzw2VEA9VTI",
        "outputId": "189b1a97-95ec-47a2-bdc8-c0b8209726b5"
      },
      "outputs": [
        {
          "ename": "NameError",
          "evalue": "ignored",
          "output_type": "error",
          "traceback": [
            "\u001b[0;31m---------------------------------------------------------------------------\u001b[0m",
            "\u001b[0;31mNameError\u001b[0m                                 Traceback (most recent call last)",
            "\u001b[0;32m<ipython-input-25-1708ef5715b0>\u001b[0m in \u001b[0;36m<module>\u001b[0;34m\u001b[0m\n\u001b[1;32m      4\u001b[0m \u001b[0;34m\u001b[0m\u001b[0m\n\u001b[1;32m      5\u001b[0m \u001b[0;31m# Compose the 3 rigid transformations into a single transformation\u001b[0m\u001b[0;34m\u001b[0m\u001b[0;34m\u001b[0m\u001b[0;34m\u001b[0m\u001b[0m\n\u001b[0;32m----> 6\u001b[0;31m \u001b[0mrigid_transform_composed\u001b[0m \u001b[0;34m=\u001b[0m \u001b[0mrigid_transform1\u001b[0m\u001b[0;34m.\u001b[0m\u001b[0mcompose\u001b[0m\u001b[0;34m(\u001b[0m\u001b[0mrigid_transform2\u001b[0m\u001b[0;34m)\u001b[0m\u001b[0;34m.\u001b[0m\u001b[0mcompose\u001b[0m\u001b[0;34m(\u001b[0m\u001b[0mrigid_transform3\u001b[0m\u001b[0;34m)\u001b[0m\u001b[0;34m\u001b[0m\u001b[0;34m\u001b[0m\u001b[0m\n\u001b[0m",
            "\u001b[0;31mNameError\u001b[0m: name 'rigid_transform1' is not defined"
          ]
        }
      ],
      "source": []
    },
    {
      "cell_type": "code",
      "execution_count": null,
      "metadata": {
        "colab": {
          "base_uri": "https://localhost:8080/",
          "height": 393
        },
        "id": "2bt6JhBp21J7",
        "outputId": "3ab2e4e0-60fe-4c47-8faf-c4715f094a1c"
      },
      "outputs": [
        {
          "ename": "FileNotFoundError",
          "evalue": "ignored",
          "output_type": "error",
          "traceback": [
            "\u001b[0;31m---------------------------------------------------------------------------\u001b[0m",
            "\u001b[0;31mFileNotFoundError\u001b[0m                         Traceback (most recent call last)",
            "\u001b[0;32m<ipython-input-10-79088d1b1972>\u001b[0m in \u001b[0;36m<module>\u001b[0;34m\u001b[0m\n\u001b[1;32m      1\u001b[0m \u001b[0;32mimport\u001b[0m \u001b[0mmatplotlib\u001b[0m \u001b[0;32mas\u001b[0m \u001b[0mplt\u001b[0m\u001b[0;34m\u001b[0m\u001b[0;34m\u001b[0m\u001b[0m\n\u001b[1;32m      2\u001b[0m \u001b[0;34m\u001b[0m\u001b[0m\n\u001b[0;32m----> 3\u001b[0;31m \u001b[0mimage\u001b[0m \u001b[0;34m=\u001b[0m \u001b[0mnp\u001b[0m\u001b[0;34m.\u001b[0m\u001b[0mload\u001b[0m\u001b[0;34m(\u001b[0m\u001b[0;34m\"image_train00.npy\"\u001b[0m\u001b[0;34m)\u001b[0m\u001b[0;34m\u001b[0m\u001b[0;34m\u001b[0m\u001b[0m\n\u001b[0m\u001b[1;32m      4\u001b[0m \u001b[0;34m\u001b[0m\u001b[0m\n\u001b[1;32m      5\u001b[0m \u001b[0;31m# Manually define the ranges of translation and rotation parameters, according to the\u001b[0m\u001b[0;34m\u001b[0m\u001b[0;34m\u001b[0m\u001b[0;34m\u001b[0m\u001b[0m\n",
            "\u001b[0;32m/usr/local/lib/python3.8/dist-packages/numpy/lib/npyio.py\u001b[0m in \u001b[0;36mload\u001b[0;34m(file, mmap_mode, allow_pickle, fix_imports, encoding)\u001b[0m\n\u001b[1;32m    415\u001b[0m             \u001b[0mown_fid\u001b[0m \u001b[0;34m=\u001b[0m \u001b[0;32mFalse\u001b[0m\u001b[0;34m\u001b[0m\u001b[0;34m\u001b[0m\u001b[0m\n\u001b[1;32m    416\u001b[0m         \u001b[0;32melse\u001b[0m\u001b[0;34m:\u001b[0m\u001b[0;34m\u001b[0m\u001b[0;34m\u001b[0m\u001b[0m\n\u001b[0;32m--> 417\u001b[0;31m             \u001b[0mfid\u001b[0m \u001b[0;34m=\u001b[0m \u001b[0mstack\u001b[0m\u001b[0;34m.\u001b[0m\u001b[0menter_context\u001b[0m\u001b[0;34m(\u001b[0m\u001b[0mopen\u001b[0m\u001b[0;34m(\u001b[0m\u001b[0mos_fspath\u001b[0m\u001b[0;34m(\u001b[0m\u001b[0mfile\u001b[0m\u001b[0;34m)\u001b[0m\u001b[0;34m,\u001b[0m \u001b[0;34m\"rb\"\u001b[0m\u001b[0;34m)\u001b[0m\u001b[0;34m)\u001b[0m\u001b[0;34m\u001b[0m\u001b[0;34m\u001b[0m\u001b[0m\n\u001b[0m\u001b[1;32m    418\u001b[0m             \u001b[0mown_fid\u001b[0m \u001b[0;34m=\u001b[0m \u001b[0;32mTrue\u001b[0m\u001b[0;34m\u001b[0m\u001b[0;34m\u001b[0m\u001b[0m\n\u001b[1;32m    419\u001b[0m \u001b[0;34m\u001b[0m\u001b[0m\n",
            "\u001b[0;31mFileNotFoundError\u001b[0m: [Errno 2] No such file or directory: 'image_train00.npy'"
          ]
        }
      ],
      "source": [
        "\n",
        "\n",
        "\n",
        "# Visualize the warped image.\n",
        "\n",
        "plt.imshow(warped_image2[:, :, 100], cmap=\"gray\")\n",
        "plt.show()\n",
        "\n",
        "# Randomly sample 3 sets of rigid transformation parameters T1, T2 and T3 from above-\n",
        "# defined range.\n",
        "\n",
        "transform3 = RigidTransform.generate_random_transform(\n",
        "    translation_range, rotation_range)\n",
        "warped_image3 = transform3.apply(image)"
      ]
    }
  ],
  "metadata": {
    "colab": {
      "provenance": [],
      "authorship_tag": "ABX9TyP7UtizBhFROSWZkB6NuPJJ",
      "include_colab_link": true
    },
    "kernelspec": {
      "display_name": "Python 3",
      "name": "python3"
    },
    "language_info": {
      "name": "python"
    }
  },
  "nbformat": 4,
  "nbformat_minor": 0
}